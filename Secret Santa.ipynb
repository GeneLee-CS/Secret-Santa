{
 "cells": [
  {
   "cell_type": "code",
   "execution_count": null,
   "metadata": {},
   "outputs": [],
   "source": [
    "import random\n",
    "from IPython.display import clear_output\n",
    "\n",
    "playing = True\n"
   ]
  },
  {
   "cell_type": "code",
   "execution_count": null,
   "metadata": {},
   "outputs": [],
   "source": [
    "while True:\n",
    "    \n",
    "    print(\"Welcome to My Secret Santa!\")\n",
    "\n",
    "    amount = int(input(\"Please enter the number of poeple playing\"))\n",
    "    print(\"There are {} people playing\".format(amount))\n",
    "    \n",
    "    player_list = []\n",
    "    \n",
    "    while amount > 0:\n",
    "        player_name = input(\"Insert player name: \").lower()\n",
    "        player_list.append(player_name)\n",
    "        amount -= 1\n",
    "    \n",
    "    random.shuffle(player_list)\n",
    "    \n",
    "    while playing:\n",
    "    \n",
    "        take_name = input(\"Please enter your name\").lower()\n",
    "            \n",
    "            \n",
    "        chosen_santa = player_list.pop()\n",
    "        while take_name == chosen_santa:\n",
    "            player_list.append(chosen_santa)\n",
    "            random.shuffle(player_list)\n",
    "            chosen_santa = player_list.pop()\n",
    "\n",
    "        print(\"You are {}'s secret santa\".format(chosen_santa))\n",
    "\n",
    "        if player_list != []:\n",
    "            restart = input(\"Is the next player ready ? Enter Y or N\")\n",
    "            if restart.upper() == 'Y':\n",
    "                clear_output()\n",
    "                continue\n",
    "            else:\n",
    "                print(\"Thanks for playing\")\n",
    "                break"
   ]
  }
 ],
 "metadata": {
  "kernelspec": {
   "display_name": "Python 3",
   "language": "python",
   "name": "python3"
  },
  "language_info": {
   "codemirror_mode": {
    "name": "ipython",
    "version": 3
   },
   "file_extension": ".py",
   "mimetype": "text/x-python",
   "name": "python",
   "nbconvert_exporter": "python",
   "pygments_lexer": "ipython3",
   "version": "3.6.5"
  }
 },
 "nbformat": 4,
 "nbformat_minor": 2
}
